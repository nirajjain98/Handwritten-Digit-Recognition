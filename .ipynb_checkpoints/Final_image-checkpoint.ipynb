{
 "cells": [
  {
   "cell_type": "code",
   "execution_count": null,
   "metadata": {},
   "outputs": [],
   "source": [
    "import pytesseract\n",
    "from PIL import Image\n",
    "import gradio as gr\n",
    "import os\n",
    "\n",
    "##pytesseract.pytesseract.tesseract_cmd = r'C:\\Program Files (x86)\\Tesseract-OCR\\tesseract.exe'\n",
    "##pytesseract.pytesseract.tesseract_cmd = r\"/Users/nirajjain/Library/Caches/pip/wheels/7f/a1/69/fabe07004553a36d818e4657fed410daf525fe1ae161f469d3/tesseract-0.1.3-py3-none-any.whl\"\n",
    "def txt(img):\n",
    "  text=pytesseract.image_to_string(img)\n",
    "  return text\n",
    " \n",
    "\n",
    "iface = gr.Interface(fn=txt,inputs=\"image\",outputs=\"textbox\")\n",
    "iface.launch()"
   ]
  }
 ],
 "metadata": {
  "kernelspec": {
   "display_name": "Python 3",
   "language": "python",
   "name": "python3"
  },
  "language_info": {
   "codemirror_mode": {
    "name": "ipython",
    "version": 3
   },
   "file_extension": ".py",
   "mimetype": "text/x-python",
   "name": "python",
   "nbconvert_exporter": "python",
   "pygments_lexer": "ipython3",
   "version": "3.8.5"
  }
 },
 "nbformat": 4,
 "nbformat_minor": 4
}
