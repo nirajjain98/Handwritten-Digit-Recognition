{
 "cells": [
  {
   "cell_type": "code",
   "execution_count": null,
   "metadata": {},
   "outputs": [],
   "source": [
    "from tkinter import *\n",
    "import webbrowser\n",
    "##background_image=tk.PhotoImage(\"/Users/nirajjain/Downloads/bg.jpeg\")\n",
    "root = Tk()\n",
    "root.title('Recognition Machine')\n",
    "root.geometry(\"500x250+20+20\")\n",
    "\n",
    "new = 1\n",
    "url = \"http://127.0.0.1:7864/\"\n",
    "new1 = 1\n",
    "url1 = \"http://127.0.0.1:7865/\"\n",
    "\n",
    "def openweb():\n",
    "    webbrowser.open(url,new=new)\n",
    "    \n",
    "def recg():\n",
    "    webbrowser.open(url1,new=new1)\n",
    "    \n",
    "    \n",
    "lbl = Label(root, text=\"How You Want To Recognize Handwritting\", fg='red',anchor=\"center\", font=(\"Helvetica\", 16))\n",
    "lbl.place(x=80, y=50,anchor=\"center\")\n",
    "Btn = Button(root, text = \"With ScetchPad\",command=openweb)\n",
    "Btn.place(x=50, y=150)\n",
    "Btn1 = Button(root, text=\"From Image\",command=recg)\n",
    "lbl.pack()\n",
    "Btn.pack()\n",
    "Btn1.pack()\n",
    "\n",
    "root.mainloop()"
   ]
  },
  {
   "cell_type": "code",
   "execution_count": null,
   "metadata": {},
   "outputs": [],
   "source": []
  }
 ],
 "metadata": {
  "kernelspec": {
   "display_name": "Python 3",
   "language": "python",
   "name": "python3"
  },
  "language_info": {
   "codemirror_mode": {
    "name": "ipython",
    "version": 3
   },
   "file_extension": ".py",
   "mimetype": "text/x-python",
   "name": "python",
   "nbconvert_exporter": "python",
   "pygments_lexer": "ipython3",
   "version": "3.8.5"
  }
 },
 "nbformat": 4,
 "nbformat_minor": 4
}
