{
 "cells": [
  {
   "cell_type": "markdown",
   "metadata": {
    "colab_type": "text",
    "id": "87bJEACF-UVc"
   },
   "source": [
    "## Importing Libraries and Dataset"
   ]
  },
  {
   "cell_type": "code",
   "execution_count": null,
   "metadata": {
    "colab": {},
    "colab_type": "code",
    "id": "zHMnuvkjtnse"
   },
   "outputs": [],
   "source": [
    "import numpy as np\n",
    "import pandas as pd\n",
    "import matplotlib.pyplot as plt\n",
    "%matplotlib inline\n",
    "import os\n",
    "\n",
    "if not os.path.isdir('models'): \n",
    "    os.mkdir('models')   "
   ]
  },
  {
   "cell_type": "code",
   "execution_count": null,
   "metadata": {
    "colab": {
     "base_uri": "https://localhost:8080/",
     "height": 0
    },
    "colab_type": "code",
    "id": "m_YT8bnI-0jb",
    "outputId": "51116637-217b-45c6-fb90-d5f0d4cf563f"
   },
   "outputs": [],
   "source": [
    "import tensorflow as tf\n",
    "from keras.models import Sequential  #Sequential Model\n",
    "from keras.layers import Conv2D,MaxPooling2D,Flatten,Dense,Dropout,Activation  #Different layers of CNN\n",
    "from keras.layers.normalization import BatchNormalization\n",
    "from keras.callbacks import ModelCheckpoint,EarlyStopping"
   ]
  },
  {
   "cell_type": "code",
   "execution_count": null,
   "metadata": {
    "colab": {
     "base_uri": "https://localhost:8080/",
     "height": 0
    },
    "colab_type": "code",
    "id": "uqrgdLgrvfbq",
    "outputId": "d6e39bc5-0957-4ef6-83e2-b0b745e63999"
   },
   "outputs": [],
   "source": [
    "pip install emnist"
   ]
  },
  {
   "cell_type": "code",
   "execution_count": null,
   "metadata": {
    "colab": {},
    "colab_type": "code",
    "id": "E_qRiAdgtw0S"
   },
   "outputs": [],
   "source": [
    "#from emnist import list_datasets"
   ]
  },
  {
   "cell_type": "code",
   "execution_count": null,
   "metadata": {
    "colab": {
     "base_uri": "https://localhost:8080/",
     "height": 52
    },
    "colab_type": "code",
    "id": "nzAxKTYdvWcE",
    "outputId": "f8e68a9e-097c-45b1-cd13-997856855ed9"
   },
   "outputs": [],
   "source": [
    "#list_datasets()"
   ]
  },
  {
   "cell_type": "code",
   "execution_count": null,
   "metadata": {
    "colab": {
     "base_uri": "https://localhost:8080/",
     "height": 0
    },
    "colab_type": "code",
    "id": "2r1HxkP8vnks",
    "outputId": "796f368d-1018-4be0-bc50-94a0e278c720"
   },
   "outputs": [],
   "source": [
    "from emnist import extract_training_samples \n",
    "X_train,y_train = extract_training_samples('byclass')"
   ]
  },
  {
   "cell_type": "code",
   "execution_count": null,
   "metadata": {
    "colab": {},
    "colab_type": "code",
    "id": "vhbZ_3pHv-t8"
   },
   "outputs": [],
   "source": [
    "from emnist import extract_test_samples\n",
    "X_test,y_test  = extract_test_samples('byclass')"
   ]
  },
  {
   "cell_type": "code",
   "execution_count": null,
   "metadata": {
    "colab": {
     "base_uri": "https://localhost:8080/",
     "height": 87
    },
    "colab_type": "code",
    "id": "28EP0JIBwMbY",
    "outputId": "37ba2073-7507-489a-b9bc-d6b2aa6c57d5"
   },
   "outputs": [],
   "source": [
    "print(\"X_train shape: \",X_train.shape)\n",
    "print(\"y_train shape: \",y_train.shape)\n",
    "print(\"X_test shape: \",X_test.shape)\n",
    "print(\"y_test shape: \",y_test.shape)"
   ]
  },
  {
   "cell_type": "code",
   "execution_count": null,
   "metadata": {
    "colab": {},
    "colab_type": "code",
    "id": "11jV7PBJwx3D"
   },
   "outputs": [],
   "source": [
    "#In Training Set there are 6,97,932 images of 28 by 28 pixels\n",
    "#In test Set there are 1,16,323 images of 28 by 28 pixels"
   ]
  },
  {
   "cell_type": "markdown",
   "metadata": {
    "colab_type": "text",
    "id": "ru_x2rSZ-npa"
   },
   "source": [
    "## Visualization"
   ]
  },
  {
   "cell_type": "code",
   "execution_count": null,
   "metadata": {
    "colab": {
     "base_uri": "https://localhost:8080/",
     "height": 283
    },
    "colab_type": "code",
    "id": "PLdSOjWxwv3r",
    "outputId": "71312b7d-9d5d-4bbf-c6d7-4660dbbfc607"
   },
   "outputs": [],
   "source": [
    "random_index = np.random.randint(0,697932)\n",
    "\n",
    "print(\"\\t  Label :\",y_train[random_index]) \n",
    "plt.imshow(X_train[random_index], cmap='gray');\n",
    "\n",
    "#by adding ; at the end you don't get that matplotlib line....<matplotlib.image.AxesImage at 0x7fa9f8b04a20>"
   ]
  },
  {
   "cell_type": "code",
   "execution_count": null,
   "metadata": {
    "colab": {
     "base_uri": "https://localhost:8080/",
     "height": 283
    },
    "colab_type": "code",
    "id": "U5cXQQ7TyICX",
    "outputId": "32774db3-8365-47cd-ea87-f1ec25c67fa8"
   },
   "outputs": [],
   "source": [
    "random_index = np.random.randint(0,697932)\n",
    "\n",
    "print(\"\\t  Label :\",y_train[random_index]) \n",
    "plt.imshow(X_train[random_index], cmap='gray');"
   ]
  },
  {
   "cell_type": "code",
   "execution_count": null,
   "metadata": {
    "colab": {
     "base_uri": "https://localhost:8080/",
     "height": 534
    },
    "colab_type": "code",
    "id": "lgxcIZUNoExD",
    "outputId": "8da0d50a-a841-4f1f-db96-2513637a5d6c"
   },
   "outputs": [],
   "source": [
    "print(\"\\t\\t\\tTABLE\\n\")\n",
    "from IPython.display import Image\n",
    "Image('/content/Images/Table.png')"
   ]
  },
  {
   "cell_type": "code",
   "execution_count": null,
   "metadata": {
    "colab": {},
    "colab_type": "code",
    "id": "QXSnD6saCqpF"
   },
   "outputs": [],
   "source": [
    "classes = ['0','1','2','3','4','5','6','7','8','9',\n",
    "             'A','B','C','D','E','F','G','H','I','J','K','L','M','N','O','P','Q','R','S','T','U','V','W','X','Y','Z',\n",
    "             'a','b','c','d','e','f','g','h','i','j','k','l','m','n','o','p','q','r','s','t','u','v','w','x','y','z']"
   ]
  },
  {
   "cell_type": "code",
   "execution_count": null,
   "metadata": {
    "colab": {
     "base_uri": "https://localhost:8080/",
     "height": 373
    },
    "colab_type": "code",
    "id": "FTpxuWbOCH2i",
    "outputId": "4d3c1bf1-b974-4060-ebbb-83d1e3281f4b"
   },
   "outputs": [],
   "source": [
    "#Checking Training Examples\n",
    "fig = plt.figure(figsize=(12,7))\n",
    "for i in range(10):\n",
    "  plt.subplot( 2, 5 , i+1)            # 2 rows 5 columns                                                                  \n",
    "  plt.imshow(X_train[i], cmap='gray')  # prints image\n",
    "  plt.yticks([])  #no x and y ticks\n",
    "  plt.xticks([])\n",
    "  index = y_train[i]\n",
    "  plt.title(\"Character: \" + str(classes[index]))      "
   ]
  },
  {
   "cell_type": "markdown",
   "metadata": {
    "colab_type": "text",
    "id": "4K5nouW9-tjQ"
   },
   "source": [
    "## Reshaping and One Hot Encoding"
   ]
  },
  {
   "cell_type": "code",
   "execution_count": null,
   "metadata": {
    "colab": {},
    "colab_type": "code",
    "id": "hfgIbUg6zXZe"
   },
   "outputs": [],
   "source": [
    "#We need to reshape our 3D array to 4D array so it can be used with keras\n",
    "X_train = X_train.reshape(X_train.shape[0], 28, 28, 1)\n",
    "X_test = X_test.reshape(X_test.shape[0], 28, 28, 1)"
   ]
  },
  {
   "cell_type": "code",
   "execution_count": null,
   "metadata": {
    "colab": {
     "base_uri": "https://localhost:8080/",
     "height": 0
    },
    "colab_type": "code",
    "id": "_bogD2V4zzMW",
    "outputId": "6c1d6a96-4e7a-47c8-bec1-ef2de36f2f56"
   },
   "outputs": [],
   "source": [
    "print(\"X_train shape: \",X_train.shape)\n",
    "print(\"X_test shape: \",X_test.shape)"
   ]
  },
  {
   "cell_type": "code",
   "execution_count": null,
   "metadata": {
    "colab": {},
    "colab_type": "code",
    "id": "U1HC6R-Pz6A5"
   },
   "outputs": [],
   "source": [
    "X_train = X_train/255  #normalize inputs from 0-255 to 0-1\n",
    "X_test = X_test/255"
   ]
  },
  {
   "cell_type": "code",
   "execution_count": null,
   "metadata": {
    "colab": {
     "base_uri": "https://localhost:8080/",
     "height": 0
    },
    "colab_type": "code",
    "id": "QEBHPnxMsj3L",
    "outputId": "5c4fb03c-a1f2-4a95-b1bb-621e28f6e9f5"
   },
   "outputs": [],
   "source": [
    "from keras.utils import to_categorical\n",
    "#Keras expects \"one hot\" encoding in multiclass problems for the labels.\n",
    "\n",
    "print(\"Shape of y_train:\",y_train.shape)\n",
    "y_train = to_categorical(y_train)   \n",
    "print(\"New Shape of y_train:\",y_train.shape)\n",
    "print(\"\\n\")\n",
    "print(\"Shape of y_test:\",y_test.shape)\n",
    "y_test = to_categorical(y_test)  \n",
    "print(\"New Shape of y_test:\",y_test.shape)"
   ]
  },
  {
   "cell_type": "markdown",
   "metadata": {
    "colab_type": "text",
    "id": "QJ2MQAH4o_ZD"
   },
   "source": [
    "## MODEL 1"
   ]
  },
  {
   "cell_type": "code",
   "execution_count": null,
   "metadata": {
    "colab": {},
    "colab_type": "code",
    "id": "cj30woqRsQF-"
   },
   "outputs": [],
   "source": [
    "# Structure of Model\n",
    "\n",
    "# Input Vector :  784 pixels (28x28)\n",
    "# Convolutional Layer 1  :  128 filters\n",
    "# Convolutional Layer 2  :  256 filters\n",
    "# Output Layer :  62 classes"
   ]
  },
  {
   "cell_type": "code",
   "execution_count": null,
   "metadata": {
    "colab": {},
    "colab_type": "code",
    "id": "S4ZjoOm6svIm"
   },
   "outputs": [],
   "source": [
    "def my_model_2():  #3 Layer CNN\n",
    " #Input is 28x28 pixel images with 1 channel -> (28, 28, 1)\n",
    "  model = Sequential()\n",
    "  \n",
    "  # ------ Convolutional Layers -------   ( Feature Extraction )\n",
    "  \n",
    "  # 1st Convolutional layer\n",
    "  model.add(Conv2D(128, (3,3), input_shape = (28,28,1),activation='relu'))  # adds 128 filters with 3x3 window size/kernel size            \n",
    "  model.add(MaxPooling2D(pool_size=(2,2)))\n",
    " \n",
    "  # 2nd Convolutional layer\n",
    "  model.add(Conv2D(256, (5,5),activation='relu'))  # adds 256 filters with 3x3 kernel size..Activation function is relu\n",
    "  model.add(MaxPooling2D(pool_size=(2,2)))  #Performs pooling to reduce dimensionality size\n",
    "  \n",
    "\n",
    "  #  ------ Fully Connected Layer ------   ( Classification )\n",
    "\n",
    "  # 3rd layer (Output Layer)\n",
    "  model.add(Flatten())  # Flattening the matrix into 1D array and feed it into Dense layer.\n",
    "  model.add(Dense(62,activation='softmax'))\n",
    "  #ouput layer has 62 neurons because there are 62 classes\n",
    "  #softmax function is used for multi-class classification\n",
    "\n",
    "  return model\n",
    " \n"
   ]
  },
  {
   "cell_type": "code",
   "execution_count": null,
   "metadata": {
    "colab": {
     "base_uri": "https://localhost:8080/",
     "height": 364
    },
    "colab_type": "code",
    "id": "PwJsB7C7s8yW",
    "outputId": "5a045ffc-a837-488b-eea3-d739cc88bb76"
   },
   "outputs": [],
   "source": [
    "model1 = my_model_2()\n",
    "model1.summary()"
   ]
  },
  {
   "cell_type": "code",
   "execution_count": null,
   "metadata": {
    "colab": {},
    "colab_type": "code",
    "id": "ijKvuYoetJl_"
   },
   "outputs": [],
   "source": [
    "model1.compile(loss='categorical_crossentropy',\n",
    "            optimizer='adam',\n",
    "            metrics=['accuracy'])"
   ]
  },
  {
   "cell_type": "code",
   "execution_count": null,
   "metadata": {
    "colab": {
     "base_uri": "https://localhost:8080/",
     "height": 401
    },
    "colab_type": "code",
    "id": "_TxTf9pdtYiK",
    "outputId": "3034d859-844e-4e25-f12f-44a7d95c3a62"
   },
   "outputs": [],
   "source": [
    "# Fit model on training data\n",
    "history = model1.fit(X_train, y_train,\n",
    "                  batch_size = 128,\n",
    "                  epochs = 30,\n",
    "                  validation_data=(X_test,y_test), \n",
    "                  #our model dosen't see this validation data...so it does not get trained on it...\n",
    "                  #it's only used for tuning hyperparameters...\n",
    "                  verbose=1,\n",
    "                  callbacks=[\n",
    "                 EarlyStopping(monitor='val_accuracy', patience=7)\n",
    "                # ModelCheckpoint('models/model_{val_accuracy:.3f}.h5', #Models stored in file\n",
    "                                                 #   save_best_only=True,\n",
    "                                                  # save_weights_only=False, \n",
    "                                                   #monitor='val_accuracy')]\n",
    "                  ]\n",
    "             )"
   ]
  },
  {
   "cell_type": "code",
   "execution_count": null,
   "metadata": {
    "colab": {
     "base_uri": "https://localhost:8080/",
     "height": 69
    },
    "colab_type": "code",
    "id": "T6OijXmztgnB",
    "outputId": "6f9fddba-e454-4e6f-9e32-cea96565d3c1"
   },
   "outputs": [],
   "source": [
    "# Evaluate model on test data\n",
    "loss, accuracy = model1.evaluate(X_test, y_test, verbose=1)\n",
    "print ('Test loss :', loss )\n",
    "print ('Test accuracy :', accuracy )"
   ]
  },
  {
   "cell_type": "code",
   "execution_count": null,
   "metadata": {
    "colab": {
     "base_uri": "https://localhost:8080/",
     "height": 69
    },
    "colab_type": "code",
    "id": "ylYx8S20gpTQ",
    "outputId": "340ad48e-fa13-41b5-fdbc-ad9c51e85cb6"
   },
   "outputs": [],
   "source": [
    "loss1, accuracy1 = model1.evaluate(X_train, y_train, verbose=1)\n",
    "print ('Train loss :', loss1 )\n",
    "print ('Train accuracy :', accuracy1 )"
   ]
  },
  {
   "cell_type": "code",
   "execution_count": null,
   "metadata": {
    "colab": {
     "base_uri": "https://localhost:8080/",
     "height": 299
    },
    "colab_type": "code",
    "id": "Q-sw0OH3toM9",
    "outputId": "84cc2d12-9ab1-47ef-835a-05465efd9a3d"
   },
   "outputs": [],
   "source": [
    "import seaborn as sns\n",
    "s = len(history.history['accuracy'])\n",
    "\n",
    "plt.figsize=(10,10)\n",
    "sns.lineplot(x = range(1,1+s),y = history.history['accuracy'], label='Accuracy')\n",
    "sns.lineplot(x = range(1,1+s),y = history.history['val_accuracy'], label='Val_Accuracy')\n",
    "plt.xlabel('Epochs')\n",
    "plt.ylabel('Accuracy')"
   ]
  },
  {
   "cell_type": "code",
   "execution_count": null,
   "metadata": {
    "colab": {
     "base_uri": "https://localhost:8080/",
     "height": 297
    },
    "colab_type": "code",
    "id": "KVTmEtCEtSvJ",
    "outputId": "d036dcb6-462f-4e45-b181-307164675de6"
   },
   "outputs": [],
   "source": [
    "s = len(history.history['loss'])\n",
    "\n",
    "plt.figsize=(10,10)\n",
    "sns.lineplot(x = range(1,1+s),y = history.history['loss'], label='Loss')\n",
    "sns.lineplot(x = range(1,1+s),y = history.history['val_loss'], label='Val_Loss')\n",
    "plt.xlabel('Epochs')\n",
    "plt.ylabel('Loss')"
   ]
  },
  {
   "cell_type": "markdown",
   "metadata": {
    "colab_type": "text",
    "id": "8noziXotufQv"
   },
   "source": [
    "## MODEL 2"
   ]
  },
  {
   "cell_type": "code",
   "execution_count": null,
   "metadata": {
    "colab": {},
    "colab_type": "code",
    "id": "wSiMsGNbGGYU"
   },
   "outputs": [],
   "source": [
    "#  Model Structure\n",
    "# Input vector (28,28,1)\n",
    "# 1 hidden layer 128 units\n",
    "# 1 output Layer with 62 classes"
   ]
  },
  {
   "cell_type": "code",
   "execution_count": null,
   "metadata": {
    "colab": {},
    "colab_type": "code",
    "id": "P07trdjO09In"
   },
   "outputs": [],
   "source": [
    "def my_model_1(inp_shape,output_size):  # 3 layer CNN\n",
    "  model = Sequential() \n",
    "  #Creating Sequential Model\n",
    "\n",
    " #Layer 1\n",
    "  model.add(Conv2D(28, kernel_size=(3,3), input_shape=inp_shape))#This layer is used to extract features from image\n",
    "  model.add(MaxPooling2D(pool_size=(2, 2)))  # downsampling operation \n",
    "  model.add(Flatten()) # Flattening the 2D arrays for fully connected layers into 1D array\n",
    "\n",
    "\n",
    "  #Layer 2\n",
    "  model.add(Dense(128, activation=tf.nn.relu))  #Dense layer implies each neuron connected to all other neurons\n",
    "  #There are 128 neurons here and activation function is relu\n",
    "  model.add(Dropout(0.2))  #Dropout---> 20% neurons will be dropped....used to avoid overfitting\n",
    "\n",
    "  #layer 3\n",
    "  model.add(Dense(output_size,activation=tf.nn.softmax))\n",
    "  #ouput layer has 62 neurons because there are 62 classes in dataset\n",
    "  #softmax function is used for multi-class classification\n",
    "  model.compile(loss='sparse_categorical_crossentropy',optimizer='adam',metrics=['accuracy'])\n",
    "  return model"
   ]
  },
  {
   "cell_type": "code",
   "execution_count": null,
   "metadata": {
    "colab": {
     "base_uri": "https://localhost:8080/",
     "height": 364
    },
    "colab_type": "code",
    "id": "OTyEBGI96con",
    "outputId": "e72b9f12-0856-4516-ff0a-03eb9b636ea8"
   },
   "outputs": [],
   "source": [
    "model = my_model_1((28,28,1),62)\n",
    "model.summary()"
   ]
  },
  {
   "cell_type": "code",
   "execution_count": null,
   "metadata": {
    "colab": {
     "base_uri": "https://localhost:8080/",
     "height": 312
    },
    "colab_type": "code",
    "id": "iaWou8T11uit",
    "outputId": "7710e5f8-4d39-4420-afb2-5018b22600e9"
   },
   "outputs": [],
   "source": [
    "model.fit(X_train,y_train, epochs=8)"
   ]
  },
  {
   "cell_type": "code",
   "execution_count": null,
   "metadata": {
    "colab": {
     "base_uri": "https://localhost:8080/",
     "height": 52
    },
    "colab_type": "code",
    "id": "itj1M_LN2SaP",
    "outputId": "ac4e210e-c3d2-4c2b-8db1-5230477f29d8"
   },
   "outputs": [],
   "source": [
    "model.evaluate(X_test, y_test)"
   ]
  },
  {
   "cell_type": "code",
   "execution_count": null,
   "metadata": {
    "colab": {
     "base_uri": "https://localhost:8080/",
     "height": 283
    },
    "colab_type": "code",
    "id": "4p7oNs0223-x",
    "outputId": "8525e51c-cad8-4754-eb72-ac0b4c748765"
   },
   "outputs": [],
   "source": [
    "random_index = np.random.randint(0,116323)\n",
    "plt.imshow(X_test[random_index].reshape(28, 28),cmap='gray')\n",
    "predictions = model.predict(X_test[random_index].reshape(1, 28, 28, 1))\n",
    "print(\"Predicted Label : \",predictions.argmax())"
   ]
  },
  {
   "cell_type": "markdown",
   "metadata": {
    "colab_type": "text",
    "id": "haJA1fQ3pyWG"
   },
   "source": [
    "## MODEL 3  ( Good Results )\n"
   ]
  },
  {
   "cell_type": "code",
   "execution_count": null,
   "metadata": {
    "colab": {},
    "colab_type": "code",
    "id": "qaeqlJb9ChgZ"
   },
   "outputs": [],
   "source": [
    "# ----- Model Stucture -----\n",
    "\n",
    "# Input - (28x28) pixel image\n",
    "# 1st Convolutional Layer - 128 filters\n",
    "# 2nd Convolutional Layer - 256 filters\n",
    "# 3rd Output Layer - 62 classes"
   ]
  },
  {
   "cell_type": "code",
   "execution_count": null,
   "metadata": {
    "colab": {},
    "colab_type": "code",
    "id": "SonFo1qwH0Pn"
   },
   "outputs": [],
   "source": [
    "def my_model_3():  \n",
    "# Input: 28x28 images with 1 channel -> (28, 28, 1)\n",
    "  model = Sequential()\n",
    "  \n",
    "  # ----- Feature Extraction ----- ( Convolutional layers )\n",
    "\n",
    "  # 1st Convolutional layer\n",
    "  model.add(Conv2D(128, (3,3),activation='relu', input_shape = (28,28,1))) # adds 128 neurons with 3x3 window size/kernel size \n",
    "  model.add(BatchNormalization()) \n",
    "  model.add(MaxPooling2D(pool_size=(2,2)))\n",
    "\n",
    "  # 2nd Convolutional layer\n",
    "  model.add(Conv2D(256, (5,5),activation='relu'))      # 256 filters with 3x3 kernel size..\n",
    "  model.add(BatchNormalization())                  #Activation function is relu\n",
    "  model.add(MaxPooling2D(pool_size=(2,2)))  #Perform pooling to reduce dimensionality size\n",
    "\n",
    " \n",
    "  # ----- Classification -----  ( Fully Connected Layer )\n",
    "\n",
    "  # 3rd layer(Output Layer)\n",
    "  model.add(Flatten())  # Flattening the matrix into 1D array and feed it into a fully connected layer(Dense layer).\n",
    "\n",
    "  model.add(Dense(128,activation='relu'))\n",
    "  model.add(BatchNormalization())\n",
    "  model.add(Dropout(0.3))\n",
    "\n",
    "  model.add(Dense(62,activation='softmax'))\n",
    "  #ouput layer has 62 neurons because there are 62 classes\n",
    "  #softmax function is used for multi-class classification\n",
    "\n",
    "  return model"
   ]
  },
  {
   "cell_type": "code",
   "execution_count": null,
   "metadata": {
    "colab": {
     "base_uri": "https://localhost:8080/",
     "height": 537
    },
    "colab_type": "code",
    "id": "PWBJOIQQd7Ui",
    "outputId": "199ce3d2-fdd1-4425-b14d-f42f108e611d"
   },
   "outputs": [],
   "source": [
    "model2 = my_model_3()\n",
    "model2.summary()"
   ]
  },
  {
   "cell_type": "code",
   "execution_count": null,
   "metadata": {
    "colab": {},
    "colab_type": "code",
    "id": "OepMv0mbeC27"
   },
   "outputs": [],
   "source": [
    "model2.compile(loss='categorical_crossentropy',\n",
    "            optimizer='adam',\n",
    "            metrics=['accuracy'])"
   ]
  },
  {
   "cell_type": "code",
   "execution_count": null,
   "metadata": {
    "colab": {
     "base_uri": "https://localhost:8080/",
     "height": 347
    },
    "colab_type": "code",
    "id": "UhUmrtgweIt4",
    "outputId": "c5d13a82-af4e-47f2-efb1-a83676b6b1bb"
   },
   "outputs": [],
   "source": [
    "# Fit model on training data\n",
    "history = model2.fit(X_train, y_train,\n",
    "                  batch_size = 128,\n",
    "                  epochs = 30,\n",
    "                  validation_data=(X_test,y_test), \n",
    "                  #our model dosen't see this validation data...so it does not get trained on it...\n",
    "                  #it's only used for tuning hyperparameters...\n",
    "                  verbose=1,\n",
    "                  callbacks=[\n",
    "                 EarlyStopping(monitor='val_accuracy', patience=3)\n",
    "              #   ModelCheckpoint('models/model_{val_accuracy:.3f}.h5', #Models stored in file\n",
    "                                                  #  save_best_only=True,\n",
    "                                                   #save_weights_only=False, \n",
    "                                                   #monitor='val_accuracy')]\n",
    "                  ]\n",
    "             )"
   ]
  },
  {
   "cell_type": "markdown",
   "metadata": {
    "colab_type": "text",
    "id": "jiRZZu6GBd2F"
   },
   "source": [
    "### **Evaluate on Model**"
   ]
  },
  {
   "cell_type": "code",
   "execution_count": null,
   "metadata": {
    "colab": {
     "base_uri": "https://localhost:8080/",
     "height": 52
    },
    "colab_type": "code",
    "id": "puAgsKS9TjgU",
    "outputId": "467983cd-ddfc-428d-99ee-589b1045953b"
   },
   "outputs": [],
   "source": [
    "loss, accuracy = model2.evaluate(X_test, y_test, verbose=0)\n",
    "print ('Test loss :', loss )\n",
    "print ('Test accuracy :', accuracy )"
   ]
  },
  {
   "cell_type": "code",
   "execution_count": null,
   "metadata": {
    "colab": {
     "base_uri": "https://localhost:8080/",
     "height": 52
    },
    "colab_type": "code",
    "id": "xJum-vh7fgnk",
    "outputId": "152afc29-6617-4a3a-a882-57db58a47d84"
   },
   "outputs": [],
   "source": [
    "loss1, accuracy1 = model2.evaluate(X_train, y_train, verbose=0)\n",
    "print ('Train loss :', loss1 )\n",
    "print ('Train accuracy :', accuracy1 )"
   ]
  },
  {
   "cell_type": "code",
   "execution_count": null,
   "metadata": {
    "colab": {
     "base_uri": "https://localhost:8080/",
     "height": 351
    },
    "colab_type": "code",
    "id": "gBmqmqD3s9LR",
    "outputId": "b05c6647-275d-4042-894c-fe40eaa559e3"
   },
   "outputs": [],
   "source": [
    "import seaborn as sns\n",
    "s = len(history.history['accuracy'])\n",
    "\n",
    "plt.figsize=(10,10)\n",
    "sns.lineplot(x = range(1,1+s),y = history.history['accuracy'], label='Accuracy')\n",
    "sns.lineplot(x = range(1,1+s),y = history.history['val_accuracy'], label='Val_Accuracy')\n",
    "plt.xlabel('Epochs')\n",
    "plt.ylabel('Accuracy')"
   ]
  },
  {
   "cell_type": "code",
   "execution_count": null,
   "metadata": {
    "colab": {
     "base_uri": "https://localhost:8080/",
     "height": 297
    },
    "colab_type": "code",
    "id": "CJcF70PZ48vC",
    "outputId": "e62ffa5c-1a4a-4968-a1e3-7b9ff6d58546"
   },
   "outputs": [],
   "source": [
    "s = len(history.history['loss'])\n",
    "\n",
    "plt.figsize=(10,10)\n",
    "sns.lineplot(x = range(1,1+s),y = history.history['loss'], label='Loss')\n",
    "sns.lineplot(x = range(1,1+s),y = history.history['val_loss'], label='Val_Loss')\n",
    "plt.xlabel('Epochs')\n",
    "plt.ylabel('Loss')"
   ]
  },
  {
   "cell_type": "markdown",
   "metadata": {
    "colab_type": "text",
    "id": "jrILYj2BBkPv"
   },
   "source": [
    "### **Predictions**"
   ]
  },
  {
   "cell_type": "code",
   "execution_count": null,
   "metadata": {
    "colab": {
     "base_uri": "https://localhost:8080/",
     "height": 300
    },
    "colab_type": "code",
    "id": "S6SdfboMtvtt",
    "outputId": "03045f9d-679d-41c9-e508-599c5bedfd90"
   },
   "outputs": [],
   "source": [
    "random_index = np.random.randint(0,116323)\n",
    "plt.imshow(X_test[random_index].reshape(28, 28),cmap='gray')\n",
    "predictions = model1.predict(X_test[random_index].reshape(1, 28, 28, 1))\n",
    "index1 =predictions.argmax()\n",
    "print(\"Predicted Label : \"+classes[index1])\n",
    "index = y_test[random_index].argmax()\n",
    "print(\"Actual Label:\"+ classes[index])"
   ]
  },
  {
   "cell_type": "code",
   "execution_count": null,
   "metadata": {
    "colab": {
     "base_uri": "https://localhost:8080/",
     "height": 300
    },
    "colab_type": "code",
    "id": "Etrl9ZI1e7Od",
    "outputId": "09906a64-d608-4327-e523-5cb2ec8d66da"
   },
   "outputs": [],
   "source": [
    "random_index = np.random.randint(0,116323)\n",
    "plt.imshow(X_test[random_index].reshape(28, 28),cmap='gray')\n",
    "predictions = model1.predict(X_test[random_index].reshape(1, 28, 28, 1))\n",
    "index1 =predictions.argmax()\n",
    "print(\"Predicted Label : \"+classes[index1])\n",
    "index = y_test[random_index].argmax()\n",
    "print(\"Actual Label:\"+ classes[index])"
   ]
  },
  {
   "cell_type": "code",
   "execution_count": null,
   "metadata": {
    "colab": {
     "base_uri": "https://localhost:8080/",
     "height": 300
    },
    "colab_type": "code",
    "id": "NH6vv-4qe-K7",
    "outputId": "6b24ba0e-2a48-45a0-86be-cfaf685ad56b"
   },
   "outputs": [],
   "source": [
    "random_index = np.random.randint(0,116323)\n",
    "plt.imshow(X_test[random_index].reshape(28, 28),cmap='gray')\n",
    "predictions = model1.predict(X_test[random_index].reshape(1, 28, 28, 1))\n",
    "index1 =predictions.argmax()\n",
    "print(\"Predicted Label : \"+classes[index1])\n",
    "index = y_test[random_index].argmax()\n",
    "print(\"Actual Label:\"+ classes[index])"
   ]
  },
  {
   "cell_type": "code",
   "execution_count": null,
   "metadata": {
    "colab": {
     "base_uri": "https://localhost:8080/",
     "height": 404
    },
    "colab_type": "code",
    "id": "TVlglgvGuBND",
    "outputId": "db842a8a-42ed-45aa-8ac5-fd5f61a235a0"
   },
   "outputs": [],
   "source": [
    "plt.imshow(X_test[107596].reshape(28, 28),cmap='gray')\n",
    "predictions = model1.predict(X_test[107596].reshape(1, 28, 28, 1))\n",
    "index1 =predictions.argmax()\n",
    "index = y_test[107596].argmax()\n",
    "print(\"Predicted Label : \"+classes[index1])\n",
    "\n",
    "print(\"Actual Label: \"+ classes[index])\n",
    "if classes[index] != classes[index1]:\n",
    "  print(\"\\n\\tIt can be either 0 or O or o\")\n",
    "  \n",
    "\n",
    "ans = int(input(\"Choose :\\n1. 0\\n2. o\\n3. O\\n\"))\n",
    "\n",
    "if(ans == 1):\n",
    "  answer = \"0\"\n",
    "elif(ans == 2):\n",
    "  answer=\"o\"\n",
    "else:\n",
    "  answer=\"O\"\n",
    "\n",
    "print(\"Your chosen ans is:\"+answer)"
   ]
  },
  {
   "cell_type": "code",
   "execution_count": null,
   "metadata": {
    "colab": {
     "base_uri": "https://localhost:8080/",
     "height": 966
    },
    "colab_type": "code",
    "id": "L1Yj2KCnuR_d",
    "outputId": "e01e7a81-33d2-44d2-cdde-b1357a182fc0"
   },
   "outputs": [],
   "source": [
    "fig = plt.figure(figsize=(10,17))\n",
    "for i in range(12):\n",
    "  plt.subplot(4 , 3 , i+1)            # 2 rows 5 columns                                                                  \n",
    "  plt.imshow(X_test[i].reshape(28,28), cmap='gray')  # prints image\n",
    "  predictions = model1.predict(X_test[i].reshape(1, 28, 28, 1))\n",
    "  index1 =predictions.argmax()\n",
    "  index2 = y_test[i].argmax()\n",
    "  plt.title(\"Predicted Character : \"+classes[index1]\n",
    "            +\"\\n\"+\"Actual Character: \"+ classes[index2])\n",
    "  \n"
   ]
  },
  {
   "cell_type": "markdown",
   "metadata": {
    "colab_type": "text",
    "id": "Z2QJ9SWjgaOi"
   },
   "source": [
    "**Reference Links**  \n",
    "[Model created using the steps mentioned in summary and as shown in image.](https://medium.com/@RaghavPrabhu/understanding-of-convolutional-neural-network-cnn-deep-learning-99760835f148)     \n",
    "[Tensorflow link](https://www.tensorflow.org/api_docs/python/tf/keras/layers/Conv2D)"
   ]
  },
  {
   "cell_type": "code",
   "execution_count": null,
   "metadata": {
    "colab": {
     "base_uri": "https://localhost:8080/",
     "height": 225
    },
    "colab_type": "code",
    "id": "mOs1Ch_cuUz2",
    "outputId": "53578ebd-5439-45b5-ede1-67d80132b3cf"
   },
   "outputs": [],
   "source": [
    "from IPython.display import Image\n",
    "Image('/content/Images/Image1.png')"
   ]
  },
  {
   "cell_type": "markdown",
   "metadata": {
    "colab_type": "text",
    "id": "OYnkxLJQYvQ-"
   },
   "source": [
    "## MODEL 4"
   ]
  },
  {
   "cell_type": "code",
   "execution_count": null,
   "metadata": {
    "colab": {},
    "colab_type": "code",
    "id": "IXZB4d0GXzea"
   },
   "outputs": [],
   "source": [
    "def my_model_4():  \n",
    "# Input: 28x28 images with 1 channel -> (28, 28, 1)\n",
    "  model = Sequential()\n",
    "  \n",
    "  # ----- Feature Extraction ----- ( Convolutional layers )\n",
    "\n",
    "  # 1st Convolutional layer\n",
    "  model.add(Conv2D(128, (3,3), input_shape = (28,28,1))) # adds 128 neurons with 3x3 window size/kernel size \n",
    "  model.add(BatchNormalization()) \n",
    "  model.add(Activation('relu'))         \n",
    "  model.add(MaxPooling2D(pool_size=(2,2)))\n",
    " \n",
    "\n",
    "  # ----- Classification -----  ( Fully Connected Layer )\n",
    "\n",
    "  # 3rd layer(Output Layer)\n",
    "  model.add(Flatten())  # Flattening the matrix into 1D array and feed it into a fully connected layer(Dense layer).\n",
    "  model.add(Dense(62))\n",
    "  model.add(BatchNormalization())     \n",
    "  model.add(Activation('softmax'))\n",
    "  #ouput layer has 62 neurons because there are 62 classes\n",
    "  #softmax function is used for multi-class classification\n",
    "\n",
    "  return model"
   ]
  },
  {
   "cell_type": "code",
   "execution_count": null,
   "metadata": {
    "colab": {
     "base_uri": "https://localhost:8080/",
     "height": 433
    },
    "colab_type": "code",
    "id": "N4tk7DniX7D0",
    "outputId": "7546ad7e-051f-4a56-9e2a-34cc45e8c54c"
   },
   "outputs": [],
   "source": [
    "model4 = my_model_4()\n",
    "model4.summary()"
   ]
  },
  {
   "cell_type": "code",
   "execution_count": null,
   "metadata": {
    "colab": {},
    "colab_type": "code",
    "id": "Q-afKLK9YFJE"
   },
   "outputs": [],
   "source": [
    "model4.compile(loss='categorical_crossentropy',\n",
    "            optimizer='adam',\n",
    "            metrics=['accuracy'])"
   ]
  },
  {
   "cell_type": "code",
   "execution_count": null,
   "metadata": {
    "colab": {
     "base_uri": "https://localhost:8080/",
     "height": 575
    },
    "colab_type": "code",
    "id": "HWg0sTspYKP2",
    "outputId": "ee96c945-70b1-4c5a-8ea0-f7cb51647e6e"
   },
   "outputs": [],
   "source": [
    "# Fit model on training data\n",
    "history = model4.fit(X_train, y_train,\n",
    "                  batch_size = 128,\n",
    "                  epochs = 15,\n",
    "                  validation_data=(X_test,y_test), \n",
    "                  #our model dosen't see this validation data...so it does not get trained on it...\n",
    "                  #it's only used for tuning hyperparameters...\n",
    "                  verbose=1,\n",
    "             )"
   ]
  },
  {
   "cell_type": "code",
   "execution_count": null,
   "metadata": {
    "colab": {
     "base_uri": "https://localhost:8080/",
     "height": 52
    },
    "colab_type": "code",
    "id": "skHCAtDyYbfD",
    "outputId": "afb9fcf5-fd31-4b10-d4c3-2e9c303d9de2"
   },
   "outputs": [],
   "source": [
    "loss, accuracy = model4.evaluate(X_test, y_test, verbose=0)\n",
    "print ('Test loss :', loss )\n",
    "print ('Test accuracy :', accuracy )"
   ]
  },
  {
   "cell_type": "code",
   "execution_count": null,
   "metadata": {
    "colab": {
     "base_uri": "https://localhost:8080/",
     "height": 52
    },
    "colab_type": "code",
    "id": "UHNC6-SVYhlV",
    "outputId": "97a23beb-65cf-49e6-d71f-eb28d6c6fe72"
   },
   "outputs": [],
   "source": [
    "loss1, accuracy1 = model4.evaluate(X_train, y_train, verbose=0)\n",
    "print ('Train loss :', loss1 )\n",
    "print ('Train accuracy :', accuracy1 )"
   ]
  },
  {
   "cell_type": "code",
   "execution_count": null,
   "metadata": {
    "colab": {
     "base_uri": "https://localhost:8080/",
     "height": 297
    },
    "colab_type": "code",
    "id": "7yFgvPSQYn0H",
    "outputId": "2518b83d-20d0-4c66-8ea0-b457f9cd6ac3"
   },
   "outputs": [],
   "source": [
    "import seaborn as sns\n",
    "s = len(history.history['accuracy'])\n",
    "\n",
    "plt.figsize=(10,10)\n",
    "sns.lineplot(x = range(1,1+s),y = history.history['accuracy'], label='Accuracy')\n",
    "sns.lineplot(x = range(1,1+s),y = history.history['val_accuracy'], label='Val_Accuracy')\n",
    "plt.xlabel('Epochs')\n",
    "plt.ylabel('Accuracy')"
   ]
  },
  {
   "cell_type": "code",
   "execution_count": null,
   "metadata": {
    "colab": {
     "base_uri": "https://localhost:8080/",
     "height": 299
    },
    "colab_type": "code",
    "id": "Wps8ZI34Yo4T",
    "outputId": "9cbc9c98-3b35-4172-cb96-bb3148058fb4"
   },
   "outputs": [],
   "source": [
    "s = len(history.history['loss'])\n",
    "\n",
    "plt.figsize=(10,10)\n",
    "sns.lineplot(x = range(1,1+s),y = history.history['loss'], label='Loss')\n",
    "sns.lineplot(x = range(1,1+s),y = history.history['val_loss'], label='Val_Loss')\n",
    "plt.xlabel('Epochs')\n",
    "plt.ylabel('Loss')"
   ]
  }
 ],
 "metadata": {
  "accelerator": "GPU",
  "colab": {
   "collapsed_sections": [
    "87bJEACF-UVc",
    "ru_x2rSZ-npa",
    "4K5nouW9-tjQ",
    "QJ2MQAH4o_ZD",
    "8noziXotufQv",
    "OYnkxLJQYvQ-"
   ],
   "name": "Text Recognition_final.ipynb",
   "provenance": []
  },
  "kernelspec": {
   "display_name": "Python 3",
   "language": "python",
   "name": "python3"
  },
  "language_info": {
   "codemirror_mode": {
    "name": "ipython",
    "version": 3
   },
   "file_extension": ".py",
   "mimetype": "text/x-python",
   "name": "python",
   "nbconvert_exporter": "python",
   "pygments_lexer": "ipython3",
   "version": "3.8.5"
  }
 },
 "nbformat": 4,
 "nbformat_minor": 4
}
