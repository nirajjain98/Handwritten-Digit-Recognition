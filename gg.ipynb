{
 "cells": [
  {
   "cell_type": "code",
   "execution_count": null,
   "metadata": {},
   "outputs": [],
   "source": [
    "from tkinter import *\n",
    "import sys\n",
    "import os\n",
    "\n",
    "from tkinter import messagebox\n",
    "\n",
    "top = Tk()\n",
    "top.geometry(\"550x200\")\n",
    "def run():\n",
    "   os.system('python Final_GUI.ipynb')\n",
    "\n",
    "B1 = Button(top, text = \"click\",bg=\"black\",fg=\"white\", command = run)\n",
    "B1.pack()\n",
    "B1.grid(column=0,row=0)\n",
    "\n",
    "top.mainloop()"
   ]
  },
  {
   "cell_type": "code",
   "execution_count": null,
   "metadata": {},
   "outputs": [],
   "source": []
  },
  {
   "cell_type": "code",
   "execution_count": null,
   "metadata": {},
   "outputs": [],
   "source": []
  }
 ],
 "metadata": {
  "kernelspec": {
   "display_name": "Python 3",
   "language": "python",
   "name": "python3"
  },
  "language_info": {
   "codemirror_mode": {
    "name": "ipython",
    "version": 3
   },
   "file_extension": ".py",
   "mimetype": "text/x-python",
   "name": "python",
   "nbconvert_exporter": "python",
   "pygments_lexer": "ipython3",
   "version": "3.8.5"
  }
 },
 "nbformat": 4,
 "nbformat_minor": 4
}
