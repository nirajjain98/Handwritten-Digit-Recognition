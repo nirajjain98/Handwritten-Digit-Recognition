{
 "cells": [
  {
   "cell_type": "markdown",
   "metadata": {
    "colab_type": "text",
    "id": "87bJEACF-UVc"
   },
   "source": [
    "## Importing Libraries and Dataset"
   ]
  },
  {
   "cell_type": "code",
   "execution_count": 1,
   "metadata": {
    "colab": {},
    "colab_type": "code",
    "id": "zHMnuvkjtnse"
   },
   "outputs": [],
   "source": [
    "import numpy as np\n",
    "import pandas as pd\n",
    "import matplotlib.pyplot as plt\n",
    "%matplotlib inline\n",
    "import os\n",
    "\n",
    "if not os.path.isdir('models'): \n",
    "    os.mkdir('models')   "
   ]
  },
  {
   "cell_type": "code",
   "execution_count": 2,
   "metadata": {
    "colab": {
     "base_uri": "https://localhost:8080/",
     "height": 34
    },
    "colab_type": "code",
    "id": "m_YT8bnI-0jb",
    "outputId": "dffe4436-2cfb-4334-8f0d-f0de48541594"
   },
   "outputs": [],
   "source": [
    "import tensorflow as tf\n",
    "from tensorflow.python.keras.models import Sequential  #Sequential Model\n",
    "from tensorflow.python.keras.layers import Conv2D,MaxPooling2D,Flatten,Dense,Dropout,Activation  #Different layers of CNN\n",
    "from tensorflow.python.keras.layers.normalization import BatchNormalization\n",
    "from tensorflow.python.keras.callbacks import ModelCheckpoint,EarlyStopping"
   ]
  },
  {
   "cell_type": "code",
   "execution_count": 3,
   "metadata": {
    "colab": {
     "base_uri": "https://localhost:8080/",
     "height": 227
    },
    "colab_type": "code",
    "id": "uqrgdLgrvfbq",
    "outputId": "07564a2a-1a89-4ff4-c1da-d58523e9267b"
   },
   "outputs": [
    {
     "name": "stdout",
     "output_type": "stream",
     "text": [
      "Requirement already satisfied: emnist in /opt/anaconda3/lib/python3.8/site-packages (0.0)\n",
      "Requirement already satisfied: tqdm in /opt/anaconda3/lib/python3.8/site-packages (from emnist) (4.50.2)\n",
      "Requirement already satisfied: numpy in /opt/anaconda3/lib/python3.8/site-packages (from emnist) (1.18.5)\n",
      "Requirement already satisfied: requests in /opt/anaconda3/lib/python3.8/site-packages (from emnist) (2.24.0)\n",
      "Requirement already satisfied: certifi>=2017.4.17 in /opt/anaconda3/lib/python3.8/site-packages (from requests->emnist) (2020.6.20)\n",
      "Requirement already satisfied: chardet<4,>=3.0.2 in /opt/anaconda3/lib/python3.8/site-packages (from requests->emnist) (3.0.4)\n",
      "Requirement already satisfied: urllib3!=1.25.0,!=1.25.1,<1.26,>=1.21.1 in /opt/anaconda3/lib/python3.8/site-packages (from requests->emnist) (1.25.11)\n",
      "Requirement already satisfied: idna<3,>=2.5 in /opt/anaconda3/lib/python3.8/site-packages (from requests->emnist) (2.10)\n",
      "Note: you may need to restart the kernel to use updated packages.\n"
     ]
    }
   ],
   "source": [
    "pip install emnist"
   ]
  },
  {
   "cell_type": "code",
   "execution_count": 4,
   "metadata": {
    "colab": {},
    "colab_type": "code",
    "id": "E_qRiAdgtw0S"
   },
   "outputs": [],
   "source": [
    "#from emnist import list_datasets"
   ]
  },
  {
   "cell_type": "code",
   "execution_count": 5,
   "metadata": {
    "colab": {},
    "colab_type": "code",
    "id": "nzAxKTYdvWcE"
   },
   "outputs": [],
   "source": [
    "#list_datasets()"
   ]
  },
  {
   "cell_type": "code",
   "execution_count": 6,
   "metadata": {
    "colab": {
     "base_uri": "https://localhost:8080/",
     "height": 34
    },
    "colab_type": "code",
    "id": "2r1HxkP8vnks",
    "outputId": "067cacf0-7025-4ac9-bc8a-b524043a4883"
   },
   "outputs": [],
   "source": [
    "from emnist import extract_training_samples \n",
    "X_train,y_train = extract_training_samples('byclass')"
   ]
  },
  {
   "cell_type": "code",
   "execution_count": 7,
   "metadata": {
    "colab": {},
    "colab_type": "code",
    "id": "vhbZ_3pHv-t8"
   },
   "outputs": [],
   "source": [
    "from emnist import extract_test_samples\n",
    "X_test,y_test  = extract_test_samples('byclass')"
   ]
  },
  {
   "cell_type": "code",
   "execution_count": 8,
   "metadata": {
    "colab": {
     "base_uri": "https://localhost:8080/",
     "height": 86
    },
    "colab_type": "code",
    "id": "28EP0JIBwMbY",
    "outputId": "90a17bc1-b0f5-45c8-9187-64247a57eb32"
   },
   "outputs": [
    {
     "name": "stdout",
     "output_type": "stream",
     "text": [
      "X_train shape:  (697932, 28, 28)\n",
      "y_train shape:  (697932,)\n",
      "X_test shape:  (116323, 28, 28)\n",
      "y_test shape:  (116323,)\n"
     ]
    }
   ],
   "source": [
    "print(\"X_train shape: \",X_train.shape)\n",
    "print(\"y_train shape: \",y_train.shape)\n",
    "print(\"X_test shape: \",X_test.shape)\n",
    "print(\"y_test shape: \",y_test.shape)"
   ]
  },
  {
   "cell_type": "code",
   "execution_count": 9,
   "metadata": {
    "colab": {},
    "colab_type": "code",
    "id": "11jV7PBJwx3D"
   },
   "outputs": [],
   "source": [
    "#In Training Set there are 6,97,932 images of 28 by 28 pixels\n",
    "#In test Set there are 1,16,323 images of 28 by 28 pixels"
   ]
  },
  {
   "cell_type": "markdown",
   "metadata": {
    "colab_type": "text",
    "id": "ru_x2rSZ-npa"
   },
   "source": [
    "## Visualization"
   ]
  },
  {
   "cell_type": "code",
   "execution_count": 10,
   "metadata": {
    "colab": {
     "base_uri": "https://localhost:8080/",
     "height": 282
    },
    "colab_type": "code",
    "id": "PLdSOjWxwv3r",
    "outputId": "85b791a8-6e87-4674-817c-85036b55c7c4"
   },
   "outputs": [
    {
     "name": "stdout",
     "output_type": "stream",
     "text": [
      "\t  Label : 55\n"
     ]
    },
    {
     "data": {
      "image/png": "[encoded data removed]",
      "text/plain": [
       "<Figure size 432x288 with 1 Axes>"
      ]
     },
     "metadata": {
      "needs_background": "light"
     },
     "output_type": "display_data"
    }
   ],
   "source": [
    "random_index = np.random.randint(0,697932)\n",
    "\n",
    "print(\"\\t  Label :\",y_train[random_index]) \n",
    "plt.imshow(X_train[random_index], cmap='gray');\n",
    "\n",
    "#by adding ; at the end you don't get that matplotlib line....<matplotlib.image.AxesImage at 0x7fa9f8b04a20>"
   ]
  },
  {
   "cell_type": "code",
   "execution_count": 11,
   "metadata": {
    "colab": {
     "base_uri": "https://localhost:8080/",
     "height": 282
    },
    "colab_type": "code",
    "id": "U5cXQQ7TyICX",
    "outputId": "34cb7d65-fb38-4ead-df97-2bada36d8d64"
   },
   "outputs": [
    {
     "name": "stdout",
     "output_type": "stream",
     "text": [
      "\t  Label : 11\n"
     ]
    },
    {
     "data": {
      "image/png": "[encoded data removed]",
      "text/plain": [
       "<Figure size 432x288 with 1 Axes>"
      ]
     },
     "metadata": {
      "needs_background": "light"
     },
     "output_type": "display_data"
    }
   ],
   "source": [
    "random_index = np.random.randint(0,697932)\n",
    "\n",
    "print(\"\\t  Label :\",y_train[random_index]) \n",
    "plt.imshow(X_train[random_index], cmap='gray');"
   ]
  },
  {
   "cell_type": "code",
   "execution_count": 12,
   "metadata": {
    "colab": {
     "base_uri": "https://localhost:8080/",
     "height": 69
    },
    "colab_type": "code",
    "id": "lgxcIZUNoExD",
    "outputId": "0c19f5da-67f1-4624-9f21-2a1daf9d0dfd"
   },
   "outputs": [
    {
     "name": "stdout",
     "output_type": "stream",
     "text": [
      "\t\t\tTABLE\n",
      "\n"
     ]
    },
    {
     "data": {
      "image/png": "[encoded data removed]",
      "text/plain": [
       "<IPython.core.display.Image object>"
      ]
     },
     "execution_count": 12,
     "metadata": {},
     "output_type": "execute_result"
    }
   ],
   "source": [
    "print(\"\\t\\t\\tTABLE\\n\")\n",
    "from IPython.display import Image\n",
    "Image('Table.png')"
   ]
  },
  {
   "cell_type": "code",
   "execution_count": 13,
   "metadata": {
    "colab": {},
    "colab_type": "code",
    "id": "QXSnD6saCqpF"
   },
   "outputs": [],
   "source": [
    "classes = ['0','1','2','3','4','5','6','7','8','9',\n",
    "             'A','B','C','D','E','F','G','H','I','J','K','L','M','N','O','P','Q','R','S','T','U','V','W','X','Y','Z',\n",
    "             'a','b','c','d','e','f','g','h','i','j','k','l','m','n','o','p','q','r','s','t','u','v','w','x','y','z']"
   ]
  },
  {
   "cell_type": "code",
   "execution_count": 14,
   "metadata": {
    "colab": {
     "base_uri": "https://localhost:8080/",
     "height": 373
    },
    "colab_type": "code",
    "id": "FTpxuWbOCH2i",
    "outputId": "aeead078-a519-4893-c659-c2b084260241"
   },
   "outputs": [
    {
     "data": {
      "image/png": "[encoded data removed]",
      "text/plain": [
       "<Figure size 864x504 with 10 Axes>"
      ]
     },
     "metadata": {},
     "output_type": "display_data"
    }
   ],
   "source": [
    "#Checking Training Examples\n",
    "fig = plt.figure(figsize=(12,7))\n",
    "for i in range(10):\n",
    "  plt.subplot( 2, 5 , i+1)            # 2 rows 5 columns                                                                  \n",
    "  plt.imshow(X_train[i], cmap='gray')  # prints image\n",
    "  plt.yticks([])  #no x and y ticks\n",
    "  plt.xticks([])\n",
    "  index = y_train[i]\n",
    "  plt.title(\"Character: \" + str(classes[index]))      "
   ]
  },
  {
   "cell_type": "markdown",
   "metadata": {
    "colab_type": "text",
    "id": "4K5nouW9-tjQ"
   },
   "source": [
    "## Reshaping and One Hot Encoding"
   ]
  },
  {
   "cell_type": "code",
   "execution_count": 15,
   "metadata": {
    "colab": {},
    "colab_type": "code",
    "id": "hfgIbUg6zXZe"
   },
   "outputs": [],
   "source": [
    "#We need to reshape our 3D array to 4D array so it can be used with keras\n",
    "X_train = X_train.reshape(X_train.shape[0], 28, 28, 1)\n",
    "X_test = X_test.reshape(X_test.shape[0], 28, 28, 1)"
   ]
  },
  {
   "cell_type": "code",
   "execution_count": 16,
   "metadata": {
    "colab": {
     "base_uri": "https://localhost:8080/",
     "height": 52
    },
    "colab_type": "code",
    "id": "_bogD2V4zzMW",
    "outputId": "88d2ca6e-c2f3-4cfe-e2e2-19d25907a469"
   },
   "outputs": [
    {
     "name": "stdout",
     "output_type": "stream",
     "text": [
      "X_train shape:  (697932, 28, 28, 1)\n",
      "X_test shape:  (116323, 28, 28, 1)\n"
     ]
    }
   ],
   "source": [
    "print(\"X_train shape: \",X_train.shape)\n",
    "print(\"X_test shape: \",X_test.shape)"
   ]
  },
  {
   "cell_type": "code",
   "execution_count": 17,
   "metadata": {
    "colab": {},
    "colab_type": "code",
    "id": "U1HC6R-Pz6A5"
   },
   "outputs": [],
   "source": [
    "X_train = X_train/255  #normalize inputs from 0-255 to 0-1\n",
    "X_test = X_test/255"
   ]
  },
  {
   "cell_type": "code",
   "execution_count": 18,
   "metadata": {
    "colab": {
     "base_uri": "https://localhost:8080/",
     "height": 121
    },
    "colab_type": "code",
    "id": "QEBHPnxMsj3L",
    "outputId": "d418a68d-6dd4-437b-d956-1b3ca9324764"
   },
   "outputs": [
    {
     "name": "stdout",
     "output_type": "stream",
     "text": [
      "Shape of y_train: (697932,)\n",
      "New Shape of y_train: (697932, 62)\n",
      "\n",
      "\n",
      "Shape of y_test: (116323,)\n",
      "New Shape of y_test: (116323, 62)\n"
     ]
    }
   ],
   "source": [
    "from keras.utils import to_categorical\n",
    "#Keras expects \"one hot\" encoding in multiclass problems for the labels.\n",
    "\n",
    "print(\"Shape of y_train:\",y_train.shape)\n",
    "y_train = to_categorical(y_train)   \n",
    "print(\"New Shape of y_train:\",y_train.shape)\n",
    "print(\"\\n\")\n",
    "print(\"Shape of y_test:\",y_test.shape)\n",
    "y_test = to_categorical(y_test)  \n",
    "print(\"New Shape of y_test:\",y_test.shape)"
   ]
  },
  {
   "cell_type": "markdown",
   "metadata": {
    "colab_type": "text",
    "id": "UzdvBG_hsYdE"
   },
   "source": [
    "# **MODEL**"
   ]
  },
  {
   "cell_type": "code",
   "execution_count": 19,
   "metadata": {
    "colab": {},
    "colab_type": "code",
    "id": "CmySrdsxs0Cl"
   },
   "outputs": [],
   "source": [
    "#--------------------------------------------\n",
    "# Train loss : 0.26709693896186193\n",
    "# Train accuracy : 0.89481497\n",
    "#--------------------------------------------\n",
    "# Test loss : 0.3359006342502508\n",
    "# Test accuracy : 0.8740576\n",
    "#--------------------------------------------\n",
    "\n",
    "# DIFFERENCES:\n",
    "# LOSS       : 0.0688\n",
    "# ACCURACY  :  0.0207"
   ]
  },
  {
   "cell_type": "code",
   "execution_count": 20,
   "metadata": {},
   "outputs": [],
   "source": [
    "# ----- Model Stucture -----\n",
    "\n",
    "# Input - (28x28) pixel image\n",
    "# 1st Convolutional Layer - 64 filters\n",
    "# 2nd Convolutional Layer - 128 filters\n",
    "# 3rd Dense Layer - 512 neurons\n",
    "# 4th Output Layer - 62 classes"
   ]
  },
  {
   "cell_type": "code",
   "execution_count": 21,
   "metadata": {
    "colab": {},
    "colab_type": "code",
    "id": "_qfl1odyNGmF"
   },
   "outputs": [],
   "source": [
    "# ----------------  CNN MODEL -------------------\n",
    "model = Sequential()\n",
    "\n",
    "# ----------------- Feature Extraction ------------------- ( Convolutional layers )\n",
    "\n",
    "# ------------- CONVOLUTIONAL LAYER 1 ---------------\n",
    "model.add(Conv2D(filters=64, kernel_size=(5,5), padding = 'same', activation='relu',input_shape=(28, 28,1)))\n",
    "model.add(MaxPooling2D(pool_size=(2,2), strides=(2,2)))\n",
    "\n",
    "# ------------- CONVOLUTIONAL LAYER 2 ---------------\n",
    "model.add(Conv2D(filters=128, kernel_size=(3,3) , padding = 'same', activation='relu'))\n",
    "model.add(MaxPooling2D(pool_size=(2,2)))\n",
    "\n",
    "\n",
    "# ------------------ Classification -----------------------  ( Fully Connected Layer )\n",
    "\n",
    "# ---------------- DENSE LAYER -------------------\n",
    "model.add(Flatten()) # Flattening the matrix into 1D array and feed it into a fully connected layer(Dense layer).\n",
    "model.add(Dense(units=512, activation='relu'))\n",
    "model.add(Dropout(.5))\n",
    "\n",
    "# ------------ OUTPUT LAYER ---------------\n",
    "model.add(Dense(units=62, activation='softmax'))\n",
    "#ouput layer has 62 neurons because there are 62 classes\n",
    "#softmax function is used for multi-class classification"
   ]
  },
  {
   "cell_type": "code",
   "execution_count": 22,
   "metadata": {},
   "outputs": [],
   "source": [
    "model.compile(loss='categorical_crossentropy', \n",
    "              optimizer='adam',\n",
    "              metrics=['accuracy'])"
   ]
  },
  {
   "cell_type": "code",
   "execution_count": 23,
   "metadata": {
    "colab": {
     "base_uri": "https://localhost:8080/",
     "height": 449
    },
    "colab_type": "code",
    "id": "dbGibL8LNbx5",
    "outputId": "0ffa28b1-9dc4-4d5b-f6be-efa59a038633"
   },
   "outputs": [
    {
     "name": "stdout",
     "output_type": "stream",
     "text": [
      "Epoch 1/20\n",
      "682/682 [==============================] - 1417s 2s/step - loss: 0.6600 - accuracy: 0.7931 - val_loss: 0.3992 - val_accuracy: 0.8545\n",
      "Epoch 2/20\n",
      "682/682 [==============================] - 1394s 2s/step - loss: 0.4274 - accuracy: 0.8488 - val_loss: 0.3677 - val_accuracy: 0.8639\n",
      "Epoch 3/20\n",
      "682/682 [==============================] - 1383s 2s/step - loss: 0.3939 - accuracy: 0.8579 - val_loss: 0.3545 - val_accuracy: 0.8669\n",
      "Epoch 4/20\n",
      "682/682 [==============================] - 1358s 2s/step - loss: 0.3761 - accuracy: 0.8622 - val_loss: 0.3470 - val_accuracy: 0.8706\n",
      "Epoch 5/20\n",
      "682/682 [==============================] - 1357s 2s/step - loss: 0.3628 - accuracy: 0.8658 - val_loss: 0.3449 - val_accuracy: 0.8709\n",
      "Epoch 6/20\n",
      "682/682 [==============================] - 1339s 2s/step - loss: 0.3513 - accuracy: 0.8692 - val_loss: 0.3391 - val_accuracy: 0.8737\n",
      "Epoch 7/20\n",
      "682/682 [==============================] - 1321s 2s/step - loss: 0.3432 - accuracy: 0.8711 - val_loss: 0.3364 - val_accuracy: 0.8746\n",
      "Epoch 8/20\n",
      "682/682 [==============================] - 1311s 2s/step - loss: 0.3340 - accuracy: 0.8738 - val_loss: 0.3357 - val_accuracy: 0.8740\n",
      "Epoch 9/20\n",
      "682/682 [==============================] - 1299s 2s/step - loss: 0.3258 - accuracy: 0.8759 - val_loss: 0.3359 - val_accuracy: 0.8748\n",
      "Epoch 10/20\n",
      "682/682 [==============================] - 1295s 2s/step - loss: 0.3182 - accuracy: 0.8782 - val_loss: 0.3356 - val_accuracy: 0.8745\n",
      "Epoch 11/20\n",
      "682/682 [==============================] - 1282s 2s/step - loss: 0.3109 - accuracy: 0.8803 - val_loss: 0.3367 - val_accuracy: 0.8750\n",
      "Epoch 12/20\n",
      "682/682 [==============================] - 1272s 2s/step - loss: 0.3040 - accuracy: 0.8828 - val_loss: 0.3377 - val_accuracy: 0.8751\n"
     ]
    }
   ],
   "source": [
    "history = model.fit(X_train, y_train, \n",
    "                    epochs=20, \n",
    "                    batch_size=1024, \n",
    "                    verbose=1,\n",
    "                    validation_data=(X_test, y_test), #our model dosen't see this validation data...so it does not get trained on it...\n",
    "                                                    #it's only used for tuning hyperparameters...\n",
    "                    callbacks=[EarlyStopping(monitor='val_loss',mode='min',patience=2)]\n",
    "                   )"
   ]
  },
  {
   "cell_type": "markdown",
   "metadata": {},
   "source": [
    "## Evaluate on Model"
   ]
  },
  {
   "cell_type": "code",
   "execution_count": 24,
   "metadata": {
    "colab": {
     "base_uri": "https://localhost:8080/",
     "height": 52
    },
    "colab_type": "code",
    "id": "wvOVfGvLuaIx",
    "outputId": "44d00e0d-577e-4cc5-c257-6a02e6b22400"
   },
   "outputs": [
    {
     "name": "stdout",
     "output_type": "stream",
     "text": [
      "3636/3636 [==============================] - 66s 18ms/step - loss: 0.3377 - accuracy: 0.8751\n",
      "Test loss : 0.33769965171813965\n",
      "Test accuracy : 0.8750805854797363\n"
     ]
    }
   ],
   "source": [
    "loss, accuracy = model.evaluate(X_test, y_test, verbose=1)\n",
    "print ('Test loss :', loss )\n",
    "print ('Test accuracy :', accuracy )"
   ]
  },
  {
   "cell_type": "code",
   "execution_count": 25,
   "metadata": {
    "colab": {
     "base_uri": "https://localhost:8080/",
     "height": 52
    },
    "colab_type": "code",
    "id": "zFNVhzHJuaI1",
    "outputId": "636802a0-14ae-40ca-a2b7-0f90f9832f53"
   },
   "outputs": [
    {
     "name": "stdout",
     "output_type": "stream",
     "text": [
      "21811/21811 [==============================] - 410s 19ms/step - loss: 0.2575 - accuracy: 0.8982\n",
      "Train loss : 0.25748878717422485\n",
      "Train accuracy : 0.898173451423645\n"
     ]
    }
   ],
   "source": [
    "loss1, accuracy1 = model.evaluate(X_train, y_train, verbose=1)\n",
    "print ('Train loss :', loss1 )\n",
    "print ('Train accuracy :', accuracy1 )"
   ]
  },
  {
   "cell_type": "code",
   "execution_count": 29,
   "metadata": {
    "colab": {
     "base_uri": "https://localhost:8080/",
     "height": 351
    },
    "colab_type": "code",
    "id": "eW2cgR-XuaI3",
    "outputId": "91116825-2c71-4ca8-99c1-eb8f304b9604"
   },
   "outputs": [
    {
     "data": {
      "text/plain": [
       "Text(0, 0.5, 'Accuracy')"
      ]
     },
     "execution_count": 29,
     "metadata": {},
     "output_type": "execute_result"
    },
    {
     "data": {
      "image/png": "[encoded data removed]",
      "text/plain": [
       "<Figure size 432x288 with 1 Axes>"
      ]
     },
     "metadata": {
      "needs_background": "light"
     },
     "output_type": "display_data"
    }
   ],
   "source": [
    "import seaborn as sns\n",
    "s = len(history.history['accuracy'])\n",
    "\n",
    "plt.figsize=(10,10)\n",
    "sns.lineplot(x = range(1,1+s),y = history.history['accuracy'], label='Accuracy')\n",
    "sns.lineplot(x = range(1,1+s),y = history.history['val_accuracy'], label='Val_Accuracy')\n",
    "plt.xlabel('Epochs')\n",
    "plt.ylabel('Accuracy')"
   ]
  },
  {
   "cell_type": "code",
   "execution_count": 30,
   "metadata": {
    "colab": {
     "base_uri": "https://localhost:8080/",
     "height": 296
    },
    "colab_type": "code",
    "id": "kPZgUz7CuaI4",
    "outputId": "71c64742-2bfd-4698-8702-0769ce7deb1d"
   },
   "outputs": [
    {
     "data": {
      "text/plain": [
       "Text(0, 0.5, 'Loss')"
      ]
     },
     "execution_count": 30,
     "metadata": {},
     "output_type": "execute_result"
    },
    {
     "data": {
      "image/png": "[encoded data removed]",
      "text/plain": [
       "<Figure size 432x288 with 1 Axes>"
      ]
     },
     "metadata": {
      "needs_background": "light"
     },
     "output_type": "display_data"
    }
   ],
   "source": [
    "s = len(history.history['loss'])\n",
    "\n",
    "plt.figsize=(10,10)\n",
    "sns.lineplot(x = range(1,1+s),y = history.history['loss'], label='Loss')\n",
    "sns.lineplot(x = range(1,1+s),y = history.history['val_loss'], label='Val_Loss')\n",
    "plt.xlabel('Epochs')\n",
    "plt.ylabel('Loss')"
   ]
  },
  {
   "cell_type": "code",
   "execution_count": 31,
   "metadata": {
    "colab": {},
    "colab_type": "code",
    "id": "0BYARAot4knH"
   },
   "outputs": [],
   "source": [
    "model_json = model.to_json()\n",
    "with open(\"model.json\", \"w\") as json_file:\n",
    "    json_file.write(model_json)\n",
    "# serialize weights to HDF5\n",
    "model.save_weights(\"model.h5\")"
   ]
  },
  {
   "cell_type": "code",
   "execution_count": 32,
   "metadata": {},
   "outputs": [
    {
     "name": "stdout",
     "output_type": "stream",
     "text": [
      "Model: \"sequential\"\n",
      "_________________________________________________________________\n",
      "Layer (type)                 Output Shape              Param #   \n",
      "=================================================================\n",
      "conv2d (Conv2D)              (None, 28, 28, 64)        1664      \n",
      "_________________________________________________________________\n",
      "max_pooling2d (MaxPooling2D) (None, 14, 14, 64)        0         \n",
      "_________________________________________________________________\n",
      "conv2d_1 (Conv2D)            (None, 14, 14, 128)       73856     \n",
      "_________________________________________________________________\n",
      "max_pooling2d_1 (MaxPooling2 (None, 7, 7, 128)         0         \n",
      "_________________________________________________________________\n",
      "flatten (Flatten)            (None, 6272)              0         \n",
      "_________________________________________________________________\n",
      "dense (Dense)                (None, 512)               3211776   \n",
      "_________________________________________________________________\n",
      "dropout (Dropout)            (None, 512)               0         \n",
      "_________________________________________________________________\n",
      "dense_1 (Dense)              (None, 62)                31806     \n",
      "=================================================================\n",
      "Total params: 3,319,102\n",
      "Trainable params: 3,319,102\n",
      "Non-trainable params: 0\n",
      "_________________________________________________________________\n"
     ]
    }
   ],
   "source": [
    "model.summary()"
   ]
  },
  {
   "cell_type": "markdown",
   "metadata": {
    "colab_type": "text",
    "id": "ONMaMn6d4nFn"
   },
   "source": [
    "## **Predictions**"
   ]
  },
  {
   "cell_type": "code",
   "execution_count": 33,
   "metadata": {
    "colab": {
     "base_uri": "https://localhost:8080/",
     "height": 299
    },
    "colab_type": "code",
    "id": "FEgnQQPf4nFr",
    "outputId": "3029f234-dd8c-4aa8-86ee-aa14a88d5b59"
   },
   "outputs": [
    {
     "name": "stdout",
     "output_type": "stream",
     "text": [
      "Predicted Label : 4\n",
      "Actual Label: 4\n"
     ]
    },
    {
     "data": {
      "image/png": "[encoded data removed]",
      "text/plain": [
       "<Figure size 432x288 with 1 Axes>"
      ]
     },
     "metadata": {
      "needs_background": "light"
     },
     "output_type": "display_data"
    }
   ],
   "source": [
    "random_index = np.random.randint(0,116323)\n",
    "plt.imshow(X_test[random_index].reshape(28, 28),cmap='gray')\n",
    "predictions = model.predict(X_test[random_index].reshape(1, 28, 28, 1))\n",
    "index1 =predictions.argmax()\n",
    "print(\"Predicted Label : \"+classes[index1])\n",
    "index = y_test[random_index].argmax()\n",
    "print(\"Actual Label: \"+ classes[index])"
   ]
  },
  {
   "cell_type": "code",
   "execution_count": 34,
   "metadata": {
    "colab": {
     "base_uri": "https://localhost:8080/",
     "height": 299
    },
    "colab_type": "code",
    "id": "9pusfbsG4nFt",
    "outputId": "eb9dd94a-8028-4a4f-93f9-5346c45b210e"
   },
   "outputs": [
    {
     "name": "stdout",
     "output_type": "stream",
     "text": [
      "Predicted Label : K\n",
      "Actual Label: K\n"
     ]
    },
    {
     "data": {
      "image/png": "[encoded data removed]",
      "text/plain": [
       "<Figure size 432x288 with 1 Axes>"
      ]
     },
     "metadata": {
      "needs_background": "light"
     },
     "output_type": "display_data"
    }
   ],
   "source": [
    "random_index = np.random.randint(0,116323)\n",
    "plt.imshow(X_test[random_index].reshape(28, 28),cmap='gray')\n",
    "predictions = model.predict(X_test[random_index].reshape(1, 28, 28, 1))\n",
    "index1 =predictions.argmax()\n",
    "print(\"Predicted Label : \"+classes[index1])\n",
    "index = y_test[random_index].argmax()\n",
    "print(\"Actual Label: \"+ classes[index])"
   ]
  },
  {
   "cell_type": "code",
   "execution_count": 35,
   "metadata": {
    "colab": {
     "base_uri": "https://localhost:8080/",
     "height": 299
    },
    "colab_type": "code",
    "id": "aKM46x1o4nFv",
    "outputId": "6be673ab-2d17-4a1a-b405-2b61b421b2da"
   },
   "outputs": [
    {
     "name": "stdout",
     "output_type": "stream",
     "text": [
      "Predicted Label : 7\n",
      "Actual Label: 7\n"
     ]
    },
    {
     "data": {
      "image/png": "[encoded data removed]",
      "text/plain": [
       "<Figure size 432x288 with 1 Axes>"
      ]
     },
     "metadata": {
      "needs_background": "light"
     },
     "output_type": "display_data"
    }
   ],
   "source": [
    "random_index = np.random.randint(0,116323)\n",
    "plt.imshow(X_test[random_index].reshape(28, 28),cmap='gray')\n",
    "predictions = model.predict(X_test[random_index].reshape(1, 28, 28, 1))\n",
    "index1 =predictions.argmax()\n",
    "print(\"Predicted Label : \"+classes[index1])\n",
    "index = y_test[random_index].argmax()\n",
    "print(\"Actual Label: \"+ classes[index])"
   ]
  },
  {
   "cell_type": "code",
   "execution_count": 37,
   "metadata": {
    "colab": {
     "base_uri": "https://localhost:8080/",
     "height": 403
    },
    "colab_type": "code",
    "id": "GLFb3KOb4nFy",
    "outputId": "01b4848c-e36e-4945-d853-176cb3ad3c6e"
   },
   "outputs": [
    {
     "name": "stdout",
     "output_type": "stream",
     "text": [
      "Predicted Label : 0\n",
      "Actual Label: 0\n"
     ]
    },
    {
     "name": "stdin",
     "output_type": "stream",
     "text": [
      "Choose :\n",
      "1. 0\n",
      "2. o\n",
      "3. O\n",
      " 1\n"
     ]
    },
    {
     "name": "stdout",
     "output_type": "stream",
     "text": [
      "Your chosen ans is:0\n"
     ]
    },
    {
     "data": {
      "image/png": "[encoded data removed]",
      "text/plain": [
       "<Figure size 432x288 with 1 Axes>"
      ]
     },
     "metadata": {
      "needs_background": "light"
     },
     "output_type": "display_data"
    }
   ],
   "source": [
    "plt.imshow(X_test[107596].reshape(28, 28),cmap='gray')\n",
    "predictions = model.predict(X_test[107596].reshape(1, 28, 28, 1))\n",
    "index1 =predictions.argmax()\n",
    "index = y_test[107596].argmax()\n",
    "print(\"Predicted Label : \"+classes[index1])\n",
    "\n",
    "print(\"Actual Label: \"+ classes[index])\n",
    "if classes[index] != classes[index1]:\n",
    "  print(\"\\n\\tIt can be either 0 or O or o\")\n",
    "  \n",
    "\n",
    "ans = int(input(\"Choose :\\n1. 0\\n2. o\\n3. O\\n\"))\n",
    "\n",
    "if(ans == 1):\n",
    "  answer = \"0\"\n",
    "elif(ans == 2):\n",
    "  answer=\"o\"\n",
    "else:\n",
    "  answer=\"O\"\n",
    "\n",
    "print(\"Your chosen ans is:\"+answer)"
   ]
  },
  {
   "cell_type": "code",
   "execution_count": 38,
   "metadata": {
    "colab": {
     "base_uri": "https://localhost:8080/",
     "height": 966
    },
    "colab_type": "code",
    "id": "7H8h7GV54nFz",
    "outputId": "1749d983-d7c7-4ec4-c7f9-63d5b3292b19"
   },
   "outputs": [
    {
     "data": {
      "image/png": "[encoded data removed]",
      "text/plain": [
       "<Figure size 720x1224 with 12 Axes>"
      ]
     },
     "metadata": {
      "needs_background": "light"
     },
     "output_type": "display_data"
    }
   ],
   "source": [
    "fig = plt.figure(figsize=(10,17))\n",
    "for i in range(12):\n",
    "  plt.subplot(4 , 3 , i+1)            # 2 rows 5 columns                                                                  \n",
    "  plt.imshow(X_test[i].reshape(28,28), cmap='gray')  # prints image\n",
    "  predictions = model.predict(X_test[i].reshape(1, 28, 28, 1))\n",
    "  index1 =predictions.argmax()\n",
    "  index2 = y_test[i].argmax()\n",
    "  plt.title(\"Predicted Character : \"+classes[index1]\n",
    "            +\"\\n\"+\"Actual Character: \"+ classes[index2])\n",
    "  "
   ]
  },
  {
   "cell_type": "code",
   "execution_count": null,
   "metadata": {
    "colab": {},
    "colab_type": "code",
    "id": "m1FFpVrT1APd"
   },
   "outputs": [],
   "source": []
  },
  {
   "cell_type": "code",
   "execution_count": null,
   "metadata": {},
   "outputs": [],
   "source": []
  },
  {
   "cell_type": "code",
   "execution_count": null,
   "metadata": {},
   "outputs": [],
   "source": []
  },
  {
   "cell_type": "code",
   "execution_count": null,
   "metadata": {},
   "outputs": [],
   "source": []
  }
 ],
 "metadata": {
  "accelerator": "GPU",
  "colab": {
   "collapsed_sections": [],
   "name": "Bhgyashri_final.ipynb",
   "provenance": []
  },
  "kernelspec": {
   "display_name": "Python 3",
   "language": "python",
   "name": "python3"
  },
  "language_info": {
   "codemirror_mode": {
    "name": "ipython",
    "version": 3
   },
   "file_extension": ".py",
   "mimetype": "text/x-python",
   "name": "python",
   "nbconvert_exporter": "python",
   "pygments_lexer": "ipython3",
   "version": "3.8.5"
  }
 },
 "nbformat": 4,
 "nbformat_minor": 4
}
